{
  "nbformat": 4,
  "nbformat_minor": 0,
  "metadata": {
    "colab": {
      "name": "Pruning.ipynb",
      "provenance": [],
      "collapsed_sections": [],
      "include_colab_link": true
    },
    "kernelspec": {
      "name": "python3",
      "display_name": "Python 3"
    },
    "accelerator": "TPU"
  },
  "cells": [
    {
      "cell_type": "markdown",
      "metadata": {
        "id": "view-in-github",
        "colab_type": "text"
      },
      "source": [
        "<a href=\"https://colab.research.google.com/github/jinsel/Pruning-the-Neural-Networks/blob/master/Pruning.ipynb\" target=\"_parent\"><img src=\"https://colab.research.google.com/assets/colab-badge.svg\" alt=\"Open In Colab\"/></a>"
      ]
    },
    {
      "cell_type": "markdown",
      "metadata": {
        "id": "orI6QVDbcejv",
        "colab_type": "text"
      },
      "source": [
        "\n",
        "# **Purning**\n",
        "Pruning is one of the methods for inference to efficiently produce models smaller in size, more memory-efficient, more power-efficient and faster at inference with minimal loss in accuracy, other such techniques being weight sharing and quantization. Out of several aspects that deep learning takes as an inspiration from the area of Neuroscience. Pruning in deep learning is also a biologically inspired.\n",
        "\n",
        "## Purning helps to solve the problems of:\n",
        "1) Model are getting larger<br>\n",
        "2) Speed of the machine if you use CPU<br>\n",
        "3) Energy Efficiency (Memory Usage)\n"
      ]
    },
    {
      "cell_type": "markdown",
      "metadata": {
        "id": "MfW6QAL4sEPy",
        "colab_type": "text"
      },
      "source": [
        "## Setup the notebook (for Colab)\n",
        "\n",
        "**Enable the GPU with**: Runtime > Change runtime type > Hardware accelator and make sure GPU is selected."
      ]
    },
    {
      "cell_type": "code",
      "metadata": {
        "id": "8-AxgUFRZYF-",
        "colab_type": "code",
        "colab": {}
      },
      "source": [
        "#for tensorboard in google colab\n",
        "!pip install -q tf-nightly-2.0-preview\n",
        "\n",
        "# Load the TensorBoard notebook extension\n",
        "%load_ext tensorboard"
      ],
      "execution_count": 0,
      "outputs": []
    },
    {
      "cell_type": "code",
      "metadata": {
        "id": "jFClMhg_fBPn",
        "colab_type": "code",
        "colab": {}
      },
      "source": [
        "#importing the required libraries \n",
        "\n",
        "import tensorflow as tf\n",
        "from tensorflow import keras\n",
        "import matplotlib.pyplot as plt\n",
        "import datetime, os\n",
        "import tempfile\n",
        "from shutil import copyfile,move \n",
        "import h5py\n",
        "import numpy as np\n",
        "import zipfile\n",
        "import glob\n",
        "from numpy import linalg as LA\n",
        "from scipy.stats import rankdata\n"
      ],
      "execution_count": 0,
      "outputs": []
    },
    {
      "cell_type": "code",
      "metadata": {
        "id": "Qwtf-I7NlP8A",
        "colab_type": "code",
        "outputId": "dfed7151-5b5a-420e-bb8f-6d413e9f4aa6",
        "colab": {
          "base_uri": "https://localhost:8080/",
          "height": 86
        }
      },
      "source": [
        "#Data Preprocessing\n",
        "#download the MNIST datasets from keras.datasets.mnist\n",
        "batch_size = 128\n",
        "num_classes = 10\n",
        "epochs = 10\n",
        "\n",
        "# input image dimensions\n",
        "img_rows, img_cols = 28, 28\n",
        "\n",
        "# the data, shuffled and split between train and test sets\n",
        "(train_data, train_labels), (test_data, test_labels) = tf.keras.datasets.mnist.load_data()\n",
        "\n",
        "train_data = train_data.reshape(train_data.shape[0], img_rows*img_cols)\n",
        "test_data = test_data.reshape(test_data.shape[0], img_rows* img_cols)\n",
        "input_shape = (img_rows* img_cols, )\n",
        "\n",
        "\n",
        "train_data = train_data.astype('float32')\n",
        "test_data = test_data.astype('float32')\n",
        "train_data /= 255\n",
        "test_data /= 255\n",
        "print('train_data shape:', train_data.shape)\n",
        "print(train_data.shape[0], 'train samples')\n",
        "print(test_data.shape[0], 'test samples')\n",
        "\n",
        "# convert class vectors to binary class matrices\n",
        "train_labels = tf.keras.utils.to_categorical(train_labels, num_classes)\n",
        "test_labels = tf.keras.utils.to_categorical(test_labels, num_classes)\n",
        "\n",
        "print(\"num_classes:\", num_classes)"
      ],
      "execution_count": 0,
      "outputs": [
        {
          "output_type": "stream",
          "text": [
            "train_data shape: (60000, 784)\n",
            "60000 train samples\n",
            "10000 test samples\n",
            "num_classes: 10\n"
          ],
          "name": "stdout"
        }
      ]
    },
    {
      "cell_type": "markdown",
      "metadata": {
        "id": "SzxlPR_nqLbq",
        "colab_type": "text"
      },
      "source": [
        "## Before the Puring"
      ]
    },
    {
      "cell_type": "code",
      "metadata": {
        "id": "buQTNK9IfHvq",
        "colab_type": "code",
        "outputId": "45202ed9-c08f-44db-852c-64d5cf286912",
        "colab": {
          "base_uri": "https://localhost:8080/",
          "height": 330
        }
      },
      "source": [
        "#creating the Simple Neural Networks without using CNN\n",
        "\n",
        "#input size 784\n",
        "#activation function for Networks: ReLu function\n",
        "#for the final output layer we use Softmax activation function\n",
        "\n",
        "model=tf.keras.Sequential([\n",
        "    tf.keras.layers.Dense(1000,input_shape=input_shape),\n",
        "    tf.keras.layers.Dense(1000,activation=tf.nn.relu),\n",
        "    tf.keras.layers.Dense(500,activation=tf.nn.relu),\n",
        "    tf.keras.layers.Dense(200,activation=tf.nn.relu),\n",
        "    tf.keras.layers.Dense(num_classes,activation=tf.nn.softmax)\n",
        "])\n",
        "model.summary()"
      ],
      "execution_count": 0,
      "outputs": [
        {
          "output_type": "stream",
          "text": [
            "Model: \"sequential\"\n",
            "_________________________________________________________________\n",
            "Layer (type)                 Output Shape              Param #   \n",
            "=================================================================\n",
            "dense (Dense)                (None, 1000)              785000    \n",
            "_________________________________________________________________\n",
            "dense_1 (Dense)              (None, 1000)              1001000   \n",
            "_________________________________________________________________\n",
            "dense_2 (Dense)              (None, 500)               500500    \n",
            "_________________________________________________________________\n",
            "dense_3 (Dense)              (None, 200)               100200    \n",
            "_________________________________________________________________\n",
            "dense_4 (Dense)              (None, 10)                2010      \n",
            "=================================================================\n",
            "Total params: 2,388,710\n",
            "Trainable params: 2,388,710\n",
            "Non-trainable params: 0\n",
            "_________________________________________________________________\n"
          ],
          "name": "stdout"
        }
      ]
    },
    {
      "cell_type": "code",
      "metadata": {
        "id": "FsnbDg3WlI9k",
        "colab_type": "code",
        "outputId": "0e295bdb-06da-47ca-9b53-822357b914de",
        "colab": {
          "base_uri": "https://localhost:8080/",
          "height": 416
        }
      },
      "source": [
        "#for tensorboard usage\n",
        "logdir = os.path.join(\"logs\", datetime.datetime.now().strftime(\"%Y%m%d-%H%M%S\"))\n",
        "tensorboard_callback = tf.keras.callbacks.TensorBoard(logdir, histogram_freq=1)\n",
        "\n",
        "#compling the model\n",
        "model.compile(\n",
        "    loss=tf.keras.losses.categorical_crossentropy,\n",
        "    optimizer='adam',\n",
        "    metrics=['accuracy'])\n",
        "\n",
        "model.fit(train_data, train_labels,\n",
        "          batch_size=batch_size,\n",
        "          epochs=10,\n",
        "          verbose=1,\n",
        "          callbacks=[tensorboard_callback],\n",
        "          validation_data=(test_data, test_labels))\n",
        "\n",
        "score = model.evaluate(test_data, test_labels, verbose=0)\n",
        "\n",
        "print('Test loss:', score[0])\n",
        "print('Test accuracy:', score[1])"
      ],
      "execution_count": 0,
      "outputs": [
        {
          "output_type": "stream",
          "text": [
            "Train on 60000 samples, validate on 10000 samples\n",
            "Epoch 1/10\n",
            "60000/60000 [==============================] - 29s 488us/sample - loss: 0.2173 - accuracy: 0.9335 - val_loss: 0.1172 - val_accuracy: 0.9627\n",
            "Epoch 2/10\n",
            "60000/60000 [==============================] - 28s 462us/sample - loss: 0.1022 - accuracy: 0.9694 - val_loss: 0.1008 - val_accuracy: 0.9703\n",
            "Epoch 3/10\n",
            "60000/60000 [==============================] - 28s 470us/sample - loss: 0.0833 - accuracy: 0.9753 - val_loss: 0.0913 - val_accuracy: 0.9709\n",
            "Epoch 4/10\n",
            "60000/60000 [==============================] - 27s 443us/sample - loss: 0.0665 - accuracy: 0.9797 - val_loss: 0.0805 - val_accuracy: 0.9761\n",
            "Epoch 5/10\n",
            "60000/60000 [==============================] - 27s 454us/sample - loss: 0.0616 - accuracy: 0.9816 - val_loss: 0.1031 - val_accuracy: 0.9720\n",
            "Epoch 6/10\n",
            "60000/60000 [==============================] - 28s 466us/sample - loss: 0.0481 - accuracy: 0.9849 - val_loss: 0.1022 - val_accuracy: 0.9713\n",
            "Epoch 7/10\n",
            "60000/60000 [==============================] - 28s 471us/sample - loss: 0.0460 - accuracy: 0.9857 - val_loss: 0.0833 - val_accuracy: 0.9774\n",
            "Epoch 8/10\n",
            "60000/60000 [==============================] - 27s 443us/sample - loss: 0.0393 - accuracy: 0.9876 - val_loss: 0.0754 - val_accuracy: 0.9802\n",
            "Epoch 9/10\n",
            "60000/60000 [==============================] - 27s 458us/sample - loss: 0.0382 - accuracy: 0.9888 - val_loss: 0.0884 - val_accuracy: 0.9786\n",
            "Epoch 10/10\n",
            "60000/60000 [==============================] - 29s 481us/sample - loss: 0.0375 - accuracy: 0.9885 - val_loss: 0.0956 - val_accuracy: 0.9755\n",
            "Test loss: 0.09559270722349966\n",
            "Test accuracy: 0.9755\n"
          ],
          "name": "stdout"
        }
      ]
    },
    {
      "cell_type": "code",
      "metadata": {
        "id": "Klvf8KFHly6i",
        "colab_type": "code",
        "outputId": "14c9b7d4-e31e-4f35-da5d-7c4e0ce1cc96",
        "colab": {
          "base_uri": "https://localhost:8080/",
          "height": 34
        }
      },
      "source": [
        "%tensorboard --logdir logs"
      ],
      "execution_count": 0,
      "outputs": [
        {
          "output_type": "display_data",
          "data": {
            "text/plain": [
              "Reusing TensorBoard on port 6006 (pid 628), started 2:18:44 ago. (Use '!kill 628' to kill it.)"
            ]
          },
          "metadata": {
            "tags": []
          }
        },
        {
          "output_type": "display_data",
          "data": {
            "text/html": [
              "\n",
              "    <div id=\"root\"></div>\n",
              "    <script>\n",
              "      (function() {\n",
              "        window.TENSORBOARD_ENV = window.TENSORBOARD_ENV || {};\n",
              "        window.TENSORBOARD_ENV[\"IN_COLAB\"] = true;\n",
              "        document.querySelector(\"base\").href = \"https://localhost:6006\";\n",
              "        function fixUpTensorboard(root) {\n",
              "          const tftb = root.querySelector(\"tf-tensorboard\");\n",
              "          // Disable the fragment manipulation behavior in Colab. Not\n",
              "          // only is the behavior not useful (as the iframe's location\n",
              "          // is not visible to the user), it causes TensorBoard's usage\n",
              "          // of `window.replace` to navigate away from the page and to\n",
              "          // the `localhost:<port>` URL specified by the base URI, which\n",
              "          // in turn causes the frame to (likely) crash.\n",
              "          tftb.removeAttribute(\"use-hash\");\n",
              "        }\n",
              "        function executeAllScripts(root) {\n",
              "          // When `script` elements are inserted into the DOM by\n",
              "          // assigning to an element's `innerHTML`, the scripts are not\n",
              "          // executed. Thus, we manually re-insert these scripts so that\n",
              "          // TensorBoard can initialize itself.\n",
              "          for (const script of root.querySelectorAll(\"script\")) {\n",
              "            const newScript = document.createElement(\"script\");\n",
              "            newScript.type = script.type;\n",
              "            newScript.textContent = script.textContent;\n",
              "            root.appendChild(newScript);\n",
              "            script.remove();\n",
              "          }\n",
              "        }\n",
              "        function setHeight(root, height) {\n",
              "          // We set the height dynamically after the TensorBoard UI has\n",
              "          // been initialized. This avoids an intermediate state in\n",
              "          // which the container plus the UI become taller than the\n",
              "          // final width and cause the Colab output frame to be\n",
              "          // permanently resized, eventually leading to an empty\n",
              "          // vertical gap below the TensorBoard UI. It's not clear\n",
              "          // exactly what causes this problematic intermediate state,\n",
              "          // but setting the height late seems to fix it.\n",
              "          root.style.height = `${height}px`;\n",
              "        }\n",
              "        const root = document.getElementById(\"root\");\n",
              "        fetch(\".\")\n",
              "          .then((x) => x.text())\n",
              "          .then((html) => void (root.innerHTML = html))\n",
              "          .then(() => fixUpTensorboard(root))\n",
              "          .then(() => executeAllScripts(root))\n",
              "          .then(() => setHeight(root, 800));\n",
              "      })();\n",
              "    </script>\n",
              "  "
            ],
            "text/plain": [
              "<IPython.core.display.HTML object>"
            ]
          },
          "metadata": {
            "tags": []
          }
        }
      ]
    },
    {
      "cell_type": "code",
      "metadata": {
        "id": "TF-lFQhJ0Pwj",
        "colab_type": "code",
        "colab": {}
      },
      "source": [
        "#Save model\n",
        "_, model_file = tempfile.mkstemp('.h5')\n",
        "tf.keras.models.save_model(model, model_file, include_optimizer=False)"
      ],
      "execution_count": 0,
      "outputs": []
    },
    {
      "cell_type": "markdown",
      "metadata": {
        "id": "K8vqawzWrtNr",
        "colab_type": "text"
      },
      "source": [
        "## **Here we are comparing two different Purning techniques<br> <br>**\n",
        "1) **Weight Pruning** <br> \n",
        "2) **Unit/Neuron Pruning**\n",
        "\n",
        "#### Weight pruning\n",
        "1)Set individual weights in the weight matrix to zero. This corresponds to deleting connections.<br>\n",
        "\n",
        "2)Here, to achieve *sparsity* of k% we rank the individual weights in weight matrix W according to their magnitude, and then set to zero the smallest k%.\n",
        "\n",
        "Tensors with several values set to zero can be considered *sparse*. This results in important benefits:\n",
        "* *Compression*. Sparse tensors are amenable to compression by only keeping the non-zero values and their corresponding coordinates.\n",
        "* *Speed*. Sparse tensors allow us to skip otherwise unnecessary computations involving the zero values.\n",
        "\n",
        "#### Unit/Neuron Pruning\n",
        "1)Set entire columns to zero in the weight matrix to zero, in effect deleting the corresponding output neuron.<br>\n",
        "\n",
        "2)Here to achieve *sparsity* of k% we rank the columns of a weight matrix according to their *L2-norm* and delete the smallest k%.\n"
      ]
    },
    {
      "cell_type": "markdown",
      "metadata": {
        "id": "En5Yyi6hrpvT",
        "colab_type": "text"
      },
      "source": [
        "### Weight Purning"
      ]
    },
    {
      "cell_type": "code",
      "metadata": {
        "id": "faKpi7eVp6SG",
        "colab_type": "code",
        "colab": {}
      },
      "source": [
        "#Prune away(set to zero) the k% of weights using weight pruning for k in [0, 25, 50, 60, 70, 80, 90, 95, 97, 99]\n",
        "for k in [.0 ,.25, .50, .60, .70, .80, .90, .95, .97, .99]:\n",
        "  copyfile(model_file,\"/tmp/orig.h5\")\n",
        "  f = h5py.File(\"/tmp/orig.h5\",'r+')\n",
        "  ranks = {}\n",
        "  for l in list(f['model_weights'])[:-1]:\n",
        "#   for l in ['dense', 'dense_1', 'dense_2', 'dense_3']:\n",
        "    data = f['model_weights'][l][l]['kernel:0']\n",
        "    w = np.array(data)\n",
        "    ranks[l]=(rankdata(np.abs(w),method='dense') - 1).astype(int).reshape(w.shape)\n",
        "    lower_bound_rank = np.ceil(np.max(ranks[l])*k).astype(int)\n",
        "    ranks[l][ranks[l]<=lower_bound_rank] = 0\n",
        "    ranks[l][ranks[l]>lower_bound_rank] = 1\n",
        "    w = w*ranks[l]\n",
        "    data[...] = w\n",
        "  f.close()\n",
        "  move(\"/tmp/orig.h5\",\"/tmp/weight_\"+str(k)+\".h5\")"
      ],
      "execution_count": 0,
      "outputs": []
    },
    {
      "cell_type": "markdown",
      "metadata": {
        "id": "vjZTmY5j4aF4",
        "colab_type": "text"
      },
      "source": [
        "### Unit/Neuron Purning"
      ]
    },
    {
      "cell_type": "code",
      "metadata": {
        "id": "M9w4phYe4dxZ",
        "colab_type": "code",
        "colab": {}
      },
      "source": [
        "#Prune away(set to zero) the k% of weights using Unit/Neuron pruning for k in [0, 25, 50, 60, 70, 80, 90, 95, 97, 99]\n",
        "for k in [.0, .25, .50, .60, .70, .80, .90, .95, .97, .99]:\n",
        "  copyfile(model_file,\"/tmp/orig.h5\")\n",
        "  f = h5py.File(\"/tmp/orig.h5\",'r+')\n",
        "  ranks = {}\n",
        "  for l in list(f['model_weights'])[:-1]:\n",
        "#   for l in ['dense', 'dense_1', 'dense_2', 'dense_3']:\n",
        "    data = f['model_weights'][l][l]['kernel:0']\n",
        "    w = np.array(data)\n",
        "    norm = LA.norm(w,axis=0)\n",
        "    norm = np.tile(norm,(w.shape[0],1))\n",
        "    ranks[l] = (rankdata(norm,method='dense') - 1).astype(int).reshape(norm.shape)\n",
        "    lower_bound_rank = np.ceil(np.max(ranks[l])*k).astype(int)\n",
        "    ranks[l][ranks[l]<=lower_bound_rank] = 0\n",
        "    ranks[l][ranks[l]>lower_bound_rank] = 1\n",
        "    w = w*ranks[l]\n",
        "    data[...] = w\n",
        "  f.close()\n",
        "  move(\"/tmp/orig.h5\",\"/tmp/neuron\"+str(k)+\".h5\")"
      ],
      "execution_count": 0,
      "outputs": []
    },
    {
      "cell_type": "code",
      "metadata": {
        "id": "nNYoyVxY5UzS",
        "colab_type": "code",
        "outputId": "7f91664f-3048-4471-d7b8-97e06da1e0b4",
        "colab": {
          "base_uri": "https://localhost:8080/",
          "height": 538
        }
      },
      "source": [
        "#we can check the decreasing in the accuracy while droping down the parameters\n",
        "\n",
        "files_weights = glob.glob('/tmp/weight*.h5')\n",
        "files_weights.sort()\n",
        "files_neuron = glob.glob('/tmp/neuron*.h5')\n",
        "files_neuron.sort()\n",
        "  \n",
        "accuracy_weights = []\n",
        "accuracy_neurons = []\n",
        "\n",
        "for f in files_weights:\n",
        "  restored_model = tf.keras.models.load_model(f,compile=False)\n",
        "  restored_model.compile(\n",
        "    loss=tf.keras.losses.categorical_crossentropy,\n",
        "    optimizer='adam',\n",
        "    metrics=['accuracy'])\n",
        "  score = restored_model.evaluate(test_data, test_labels, verbose=0)\n",
        "  fl = h5py.File(f)\n",
        "  params = 0\n",
        "  for l in list(fl['model_weights']):\n",
        "    val = np.array(fl['model_weights'][l][l]['kernel:0'])\n",
        "    params += val[val>0].shape[0]\n",
        "  accuracy_weights.append(score[1])\n",
        "  print('Params ',params)\n",
        "  print('Model ',f)\n",
        "  print('Test accuracy:', score[1])\n",
        "\n",
        "\n",
        "for f in files_neuron:\n",
        "  restored_model = tf.keras.models.load_model(f,compile=False)\n",
        "  restored_model.compile(\n",
        "    loss=tf.keras.losses.categorical_crossentropy,\n",
        "    optimizer='adam',\n",
        "    metrics=['accuracy'])\n",
        "  score = restored_model.evaluate(test_data,test_labels, verbose=0)\n",
        "  fl = h5py.File(f)\n",
        "  params = 0\n",
        "  for l in list(fl['model_weights']):\n",
        "      val = np.array(fl['model_weights'][l][l]['kernel:0'])\n",
        "      params += val[val>0].shape[0]\n",
        "  accuracy_neurons.append(score[1])"
      ],
      "execution_count": 0,
      "outputs": [
        {
          "output_type": "stream",
          "text": [
            "Params  1137381\n",
            "Model  /tmp/weight_0.0.h5\n",
            "Test accuracy: 0.9755\n",
            "Params  843203\n",
            "Model  /tmp/weight_0.25.h5\n",
            "Test accuracy: 0.9753\n",
            "Params  551876\n",
            "Model  /tmp/weight_0.5.h5\n",
            "Test accuracy: 0.9753\n",
            "Params  437212\n",
            "Model  /tmp/weight_0.6.h5\n",
            "Test accuracy: 0.9751\n",
            "Params  324536\n",
            "Model  /tmp/weight_0.7.h5\n",
            "Test accuracy: 0.9721\n",
            "Params  213664\n",
            "Model  /tmp/weight_0.8.h5\n",
            "Test accuracy: 0.9559\n",
            "Params  104975\n",
            "Model  /tmp/weight_0.9.h5\n",
            "Test accuracy: 0.718\n",
            "Params  52362\n",
            "Model  /tmp/weight_0.95.h5\n",
            "Test accuracy: 0.114\n",
            "Params  31538\n",
            "Model  /tmp/weight_0.97.h5\n",
            "Test accuracy: 0.0974\n",
            "Params  10963\n",
            "Model  /tmp/weight_0.99.h5\n",
            "Test accuracy: 0.0974\n"
          ],
          "name": "stdout"
        }
      ]
    },
    {
      "cell_type": "code",
      "metadata": {
        "id": "d35yNghaIasE",
        "colab_type": "code",
        "outputId": "b38b8993-1533-488a-aa38-eba74754b414",
        "colab": {
          "base_uri": "https://localhost:8080/",
          "height": 34
        }
      },
      "source": [
        "#Saving the Pruned model\n",
        "_, new_pruned_keras_file = tempfile.mkstemp('.h5')\n",
        "print('Saving pruned model to: ', new_pruned_keras_file)\n",
        "tf.keras.models.save_model(restored_model, new_pruned_keras_file, \n",
        "                        include_optimizer=False)"
      ],
      "execution_count": 0,
      "outputs": [
        {
          "output_type": "stream",
          "text": [
            "Saving pruned model to:  /tmp/tmp2lmjqq48.h5\n"
          ],
          "name": "stdout"
        }
      ]
    },
    {
      "cell_type": "code",
      "metadata": {
        "id": "eYU8S4Nv48cW",
        "colab_type": "code",
        "outputId": "b72cb06d-9cb7-4a85-f8b7-d090cf6d1248",
        "colab": {
          "base_uri": "https://localhost:8080/",
          "height": 313
        }
      },
      "source": [
        "#plotting the graph between accuracy and sparsity of Weight Pruning and Unit Pruning\n",
        "import matplotlib.pyplot as plt\n",
        "import matplotlib.patches as mpatches\n",
        "plt.rcParams['figure.constrained_layout.use'] = True\n",
        "plt.xlabel('% sparsity')\n",
        "plt.ylabel('% accuracy')\n",
        "red_patch = mpatches.Patch(color='red', label='Unit Pruning')\n",
        "blue_patch = mpatches.Patch(color='blue',label='Weight Pruning')\n",
        "plt.legend(handles=[red_patch,blue_patch],loc='upper right')\n",
        "plt.plot([.0, .25, .50, .60, .70, .80, .90, .95, .97, .99],accuracy_neurons,color='red')\n",
        "plt.plot([.0, .25, .50, .60, .70, .80, .90, .95, .97, .99],accuracy_weights,color='blue')\n",
        "plt.title(\"Curve Differ in Unit and Weight Pruning\")\n",
        "plt.show()"
      ],
      "execution_count": 0,
      "outputs": [
        {
          "output_type": "display_data",
          "data": {
            "image/png": "[encoded data removed]",
            "text/plain": [
              "<Figure size 432x288 with 1 Axes>"
            ]
          },
          "metadata": {
            "tags": []
          }
        }
      ]
    },
    {
      "cell_type": "code",
      "metadata": {
        "id": "Ur6vm1n6HxN7",
        "colab_type": "code",
        "outputId": "e1629c2e-febe-47e5-ac7e-1a5953833a9f",
        "colab": {
          "base_uri": "https://localhost:8080/",
          "height": 712
        }
      },
      "source": [
        "#Compare the size of the unpruned vs. pruned model after compression\n",
        "\n",
        "pruned_keras_files = files_neuron+files_weights\n",
        "\n",
        "\n",
        "for pruned_keras_file in pruned_keras_files:\n",
        "  _, zip2 = tempfile.mkstemp('.zip') \n",
        "  with zipfile.ZipFile(zip2, 'w', compression=zipfile.ZIP_DEFLATED) as f:\n",
        "    f.write(pruned_keras_file)\n",
        "  print(\"Size of the pruned model before compression: %.2f Mb\" % \n",
        "        (os.path.getsize(pruned_keras_file) / float(2**20)))\n",
        "  print(\"Size of the pruned model after compression: %.2f Mb\" % \n",
        "        (os.path.getsize(zip2) / float(2**20)))\n",
        "  \n",
        "  "
      ],
      "execution_count": 0,
      "outputs": [
        {
          "output_type": "stream",
          "text": [
            "Size of the pruned model before compression: 9.13 Mb\n",
            "Size of the pruned model after compression: 8.44 Mb\n",
            "Size of the pruned model before compression: 9.13 Mb\n",
            "Size of the pruned model after compression: 7.08 Mb\n",
            "Size of the pruned model before compression: 9.13 Mb\n",
            "Size of the pruned model after compression: 5.29 Mb\n",
            "Size of the pruned model before compression: 9.13 Mb\n",
            "Size of the pruned model after compression: 4.51 Mb\n",
            "Size of the pruned model before compression: 9.13 Mb\n",
            "Size of the pruned model after compression: 3.67 Mb\n",
            "Size of the pruned model before compression: 9.13 Mb\n",
            "Size of the pruned model after compression: 2.76 Mb\n",
            "Size of the pruned model before compression: 9.13 Mb\n",
            "Size of the pruned model after compression: 1.78 Mb\n",
            "Size of the pruned model before compression: 9.13 Mb\n",
            "Size of the pruned model after compression: 1.25 Mb\n",
            "Size of the pruned model before compression: 9.13 Mb\n",
            "Size of the pruned model after compression: 1.02 Mb\n",
            "Size of the pruned model before compression: 9.13 Mb\n",
            "Size of the pruned model after compression: 0.76 Mb\n",
            "Size of the pruned model before compression: 9.13 Mb\n",
            "Size of the pruned model after compression: 8.44 Mb\n",
            "Size of the pruned model before compression: 9.13 Mb\n",
            "Size of the pruned model after compression: 6.97 Mb\n",
            "Size of the pruned model before compression: 9.13 Mb\n",
            "Size of the pruned model after compression: 5.13 Mb\n",
            "Size of the pruned model before compression: 9.13 Mb\n",
            "Size of the pruned model after compression: 4.36 Mb\n",
            "Size of the pruned model before compression: 9.13 Mb\n",
            "Size of the pruned model after compression: 3.54 Mb\n",
            "Size of the pruned model before compression: 9.13 Mb\n",
            "Size of the pruned model after compression: 2.68 Mb\n",
            "Size of the pruned model before compression: 9.13 Mb\n",
            "Size of the pruned model after compression: 1.75 Mb\n",
            "Size of the pruned model before compression: 9.13 Mb\n",
            "Size of the pruned model after compression: 1.23 Mb\n",
            "Size of the pruned model before compression: 9.13 Mb\n",
            "Size of the pruned model after compression: 1.01 Mb\n",
            "Size of the pruned model before compression: 9.13 Mb\n",
            "Size of the pruned model after compression: 0.77 Mb\n"
          ],
          "name": "stdout"
        }
      ]
    },
    {
      "cell_type": "markdown",
      "metadata": {
        "id": "_e5SXurnWrU2",
        "colab_type": "text"
      },
      "source": [
        "## Observation after this research\n",
        "### **Q) What intresting insights did you find?<br>**\n",
        "\n",
        "After this experiment of Pruning the networks I find that if we Pruned so much in the network then the accuracy drop will be incresed so fast as you can see the *decreasing in the accuracy while droping down the parameters* and also by pruned the networks its compressed the networks which helps in the optimise the space of system.\n",
        "Not only the saving the space but we can also use this to mobile device and trained on CPU too.\n",
        "\n",
        "### **Q) Do the curves differ?<br>**\n",
        "\n",
        "Yes, the curves between the *Weights Pruning and the Unit Pruning*, there has an curves different.<br>\n",
        "For **Unit Pruning**, the accuracy drop start after the *50% of sparsity* and ***around 60% to 80% sparsity*** the the accuracy drop is dramatically decreased. That's means the after the **50% of Sparsity the accuracy will drop down**<br>\n",
        "\n",
        "For **Weight Pruning**, the accuracy drop start after the ***85% of sparsity***<br>\n",
        "\n",
        "So from above observation, we can say that the more than 60% of sparisty in neural networks are not good for accuray\n",
        "\n",
        "### **Q) Do you have any hypotheses as to why we are able to delete so much of the network without hurting performance.<br>**\n",
        "\n",
        "I think because the features in neurons are repeating with each others, so by deleting the networks it does not effect the accuracy of the model."
      ]
    },
    {
      "cell_type": "code",
      "metadata": {
        "id": "vppdP5K9xDeG",
        "colab_type": "code",
        "colab": {}
      },
      "source": [
        ""
      ],
      "execution_count": 0,
      "outputs": []
    },
    {
      "cell_type": "markdown",
      "metadata": {
        "id": "DCMmxIoXNFPP",
        "colab_type": "text"
      },
      "source": [
        ""
      ]
    },
    {
      "cell_type": "code",
      "metadata": {
        "id": "ibeQJiCSVhJp",
        "colab_type": "code",
        "colab": {}
      },
      "source": [
        ""
      ],
      "execution_count": 0,
      "outputs": []
    }
  ]
}